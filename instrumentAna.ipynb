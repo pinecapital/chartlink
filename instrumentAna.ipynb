{
 "cells": [
  {
   "cell_type": "code",
   "execution_count": 2,
   "metadata": {},
   "outputs": [
    {
     "name": "stdout",
     "output_type": "stream",
     "text": [
      "   instrument_token  exchange_token   tradingsymbol    name  last_price  \\\n",
      "0         258770438         1010822  EURINR24APRFUT  EURINR           0   \n",
      "1         262676230         1026079  EURINR24AUGFUT  EURINR           0   \n",
      "2         268449030         1048629  EURINR24DECFUT  EURINR           0   \n",
      "3         261799430         1022654  EURINR24JULFUT  EURINR           0   \n",
      "4         260801030         1018754  EURINR24JUNFUT  EURINR           0   \n",
      "\n",
      "       expiry  strike  tick_size  lot_size instrument_type  segment exchange  \n",
      "0  2024-04-26     0.0     0.0025         1             FUT  BCD-FUT      BCD  \n",
      "1  2024-08-28     0.0     0.0025         1             FUT  BCD-FUT      BCD  \n",
      "2  2024-12-27     0.0     0.0025         1             FUT  BCD-FUT      BCD  \n",
      "3  2024-07-29     0.0     0.0025         1             FUT  BCD-FUT      BCD  \n",
      "4  2024-06-26     0.0     0.0025         1             FUT  BCD-FUT      BCD  \n"
     ]
    }
   ],
   "source": [
    "import pandas as pd\n",
    "\n",
    "def read_instruments_to_dataframe(file_path):\n",
    "    # Read the JSON file into a pandas DataFrame\n",
    "    df = pd.read_json(file_path)\n",
    "    \n",
    "    # Optionally, perform any necessary data cleaning or transformations here\n",
    "    # For example, you might want to convert string dates to datetime objects:\n",
    "    # df['date_column'] = pd.to_datetime(df['date_column'])\n",
    "    \n",
    "    return df\n",
    "\n",
    "instruments_file_path = 'instruments.json'  # Adjust the file path if necessary\n",
    "instruments_df = read_instruments_to_dataframe(instruments_file_path)\n",
    "\n",
    "# Now you can use instruments_df to perform various analyses or data manipulations\n",
    "print(instruments_df.head())  # Display the first few rows of the DataFrame\n",
    "\n"
   ]
  },
  {
   "cell_type": "code",
   "execution_count": 13,
   "metadata": {},
   "outputs": [
    {
     "name": "stdout",
     "output_type": "stream",
     "text": [
      "       instrument_token  exchange_token   tradingsymbol  name  last_price  \\\n",
      "35779          17026050           66508    SBIN24MARFUT  SBIN           0   \n",
      "66552          49449474          193162  SBIN24MAR505PE  SBIN           0   \n",
      "66553          49449730          193163  SBIN24MAR510CE  SBIN           0   \n",
      "66554          49449986          193164  SBIN24MAR510PE  SBIN           0   \n",
      "66555          49453058          193176  SBIN24MAR540PE  SBIN           0   \n",
      "\n",
      "          expiry  strike  tick_size  lot_size instrument_type  segment  \\\n",
      "35779 2024-03-28     0.0       0.05      1500             FUT  NFO-FUT   \n",
      "66552 2024-03-28   505.0       0.05      1500              PE  NFO-OPT   \n",
      "66553 2024-03-28   510.0       0.05      1500              CE  NFO-OPT   \n",
      "66554 2024-03-28   510.0       0.05      1500              PE  NFO-OPT   \n",
      "66555 2024-03-28   540.0       0.05      1500              PE  NFO-OPT   \n",
      "\n",
      "      exchange  \n",
      "35779      NFO  \n",
      "66552      NFO  \n",
      "66553      NFO  \n",
      "66554      NFO  \n",
      "66555      NFO  \n"
     ]
    }
   ],
   "source": [
    "from datetime import datetime\n",
    "\n",
    "# Ensure expiry is in datetime format\n",
    "instruments_df['expiry'] = pd.to_datetime(instruments_df['expiry'])\n",
    "\n",
    "# Get the current year and month\n",
    "current_year = datetime.now().year\n",
    "current_month = datetime.now().month\n",
    "\n",
    "# Filter for options and expiry within the current month\n",
    "options_df = instruments_df[\n",
    "                            (instruments_df['expiry'].dt.year == current_year) &\n",
    "                            (instruments_df['name'] == 'SBIN') &\n",
    "                            (instruments_df['expiry'].dt.month == current_month)]\n",
    "\n",
    "print(options_df.head())  # Display the first few rows of the filtered DataFrame\n"
   ]
  },
  {
   "cell_type": "code",
   "execution_count": 15,
   "metadata": {},
   "outputs": [
    {
     "name": "stdout",
     "output_type": "stream",
     "text": [
      "        tradingsymbol  name     expiry  strike instrument_type\n",
      "66637  SBIN24MAR790CE  SBIN 2024-03-28   790.0              CE\n",
      "66638  SBIN24MAR790PE  SBIN 2024-03-28   790.0              PE\n"
     ]
    },
    {
     "name": "stderr",
     "output_type": "stream",
     "text": [
      "/var/folders/8h/q83gsn1124x2qr7qvkswq39m0000gn/T/ipykernel_27669/2833611430.py:5: SettingWithCopyWarning: \n",
      "A value is trying to be set on a copy of a slice from a DataFrame.\n",
      "Try using .loc[row_indexer,col_indexer] = value instead\n",
      "\n",
      "See the caveats in the documentation: https://pandas.pydata.org/pandas-docs/stable/user_guide/indexing.html#returning-a-view-versus-a-copy\n",
      "  options_df['strike_diff'] = options_df['strike'].apply(lambda x: abs(x - current_price_sbin))\n"
     ]
    }
   ],
   "source": [
    "# Placeholder: Assume we have the current price of SBIN stock. You need to replace this with actual fetching logic.\n",
    "current_price_sbin = 788  # Example current price\n",
    "\n",
    "# Calculate the absolute difference between each option's strike price and the current stock price\n",
    "options_df['strike_diff'] = options_df['strike'].apply(lambda x: abs(x - current_price_sbin))\n",
    "\n",
    "# Find the minimum strike difference to get the closest strike price to the current stock price\n",
    "min_strike_diff = options_df['strike_diff'].min()\n",
    "\n",
    "# Filter for options with the closest strike price (ATM) and are of type CE or PE\n",
    "atm_options_df = options_df[(options_df['strike_diff'] == min_strike_diff) & \n",
    "                            ((options_df['instrument_type'] == 'CE') | (options_df['instrument_type'] == 'PE'))]\n",
    "\n",
    "print(atm_options_df[['tradingsymbol', 'name', 'expiry', 'strike', 'instrument_type']].head())  # Display relevant columns\n"
   ]
  },
  {
   "cell_type": "code",
   "execution_count": 22,
   "metadata": {},
   "outputs": [
    {
     "name": "stdout",
     "output_type": "stream",
     "text": [
      "        tradingsymbol  name     expiry  strike instrument_type  tick_size\n",
      "66637  SBIN24MAR790CE  SBIN 2024-03-28   790.0              CE       0.05\n",
      "66638  SBIN24MAR790PE  SBIN 2024-03-28   790.0              PE       0.05\n"
     ]
    }
   ],
   "source": [
    "# Filter for options and expiry within the current month, and make a copy to avoid SettingWithCopyWarning\n",
    "options_df = instruments_df[\n",
    "                            (instruments_df['expiry'].dt.year == current_year) &\n",
    "                            (instruments_df['name'] == 'SBIN') &\n",
    "                            (instruments_df['expiry'].dt.month == current_month)\n",
    "                            ].copy()\n",
    "\n",
    "# Assume we have the current price of SBIN stock\n",
    "current_price_sbin = 788  # Example current price\n",
    "\n",
    "# Calculate the absolute difference between each option's strike price and the current stock price\n",
    "options_df['strike_diff'] = options_df['strike'].apply(lambda x: abs(x - current_price_sbin))\n",
    "\n",
    "# Find the minimum strike difference to get the closest strike price to the current stock price\n",
    "min_strike_diff = options_df['strike_diff'].min()\n",
    "\n",
    "# Filter for options with the closest strike price (ATM) and are of type CE or PE\n",
    "atm_options_df = options_df[(options_df['strike_diff'] == min_strike_diff) & \n",
    "                            ((options_df['instrument_type'] == 'CE') | (options_df['instrument_type'] == 'PE'))]\n",
    "\n",
    "print(atm_options_df[['tradingsymbol', 'name', 'expiry', 'strike', 'instrument_type','tick_size']].head())  # Display relevant columns\n"
   ]
  }
 ],
 "metadata": {
  "kernelspec": {
   "display_name": "env",
   "language": "python",
   "name": "python3"
  },
  "language_info": {
   "codemirror_mode": {
    "name": "ipython",
    "version": 3
   },
   "file_extension": ".py",
   "mimetype": "text/x-python",
   "name": "python",
   "nbconvert_exporter": "python",
   "pygments_lexer": "ipython3",
   "version": "3.12.0"
  }
 },
 "nbformat": 4,
 "nbformat_minor": 2
}
